{
 "cells": [
  {
   "cell_type": "code",
   "execution_count": 1,
   "metadata": {
    "collapsed": false
   },
   "outputs": [],
   "source": [
    "from shutil import copy2"
   ]
  },
  {
   "cell_type": "code",
   "execution_count": 2,
   "metadata": {
    "collapsed": false
   },
   "outputs": [
    {
     "name": "stdout",
     "output_type": "stream",
     "text": [
      "71093\n"
     ]
    }
   ],
   "source": [
    "address=[]\n",
    "with open('fashion-data/train.txt','r') as f:\n",
    "    for i in f:\n",
    "        address.append(i[:-1])\n",
    "f.close()\n",
    "train_size=len(address)\n",
    "print (train_size)"
   ]
  },
  {
   "cell_type": "code",
   "execution_count": null,
   "metadata": {
    "collapsed": true
   },
   "outputs": [],
   "source": []
  },
  {
   "cell_type": "code",
   "execution_count": null,
   "metadata": {
    "collapsed": true
   },
   "outputs": [],
   "source": []
  },
  {
   "cell_type": "code",
   "execution_count": null,
   "metadata": {
    "collapsed": true
   },
   "outputs": [],
   "source": []
  },
  {
   "cell_type": "code",
   "execution_count": 39,
   "metadata": {
    "collapsed": false
   },
   "outputs": [],
   "source": [
    "count=1\n",
    "for i in address:\n",
    "    src=\"fashion-data/images/\"+i+\".jpg\"\n",
    "    folder=i.split(\"/\")\n",
    "    #print (str(folder[0]))\n",
    "    dst=\"dataset/training_set/\"+str(folder[0])+\"/\"+str(count)+\".jpg\"\n",
    "    copy2(src,dst)\n",
    "    if (count%50==0 or count==train_size):\n",
    "        print (str(count)+\" Done\")\n",
    "    count+=1\n",
    "    "
   ]
  },
  {
   "cell_type": "code",
   "execution_count": 40,
   "metadata": {
    "collapsed": false
   },
   "outputs": [
    {
     "name": "stdout",
     "output_type": "stream",
     "text": [
      "71094\n"
     ]
    }
   ],
   "source": [
    "print(count)"
   ]
  },
  {
   "cell_type": "code",
   "execution_count": null,
   "metadata": {
    "collapsed": true
   },
   "outputs": [],
   "source": []
  },
  {
   "cell_type": "code",
   "execution_count": null,
   "metadata": {
    "collapsed": true
   },
   "outputs": [],
   "source": []
  },
  {
   "cell_type": "code",
   "execution_count": null,
   "metadata": {
    "collapsed": true
   },
   "outputs": [],
   "source": []
  },
  {
   "cell_type": "code",
   "execution_count": null,
   "metadata": {
    "collapsed": true
   },
   "outputs": [],
   "source": []
  },
  {
   "cell_type": "code",
   "execution_count": 44,
   "metadata": {
    "collapsed": false
   },
   "outputs": [
    {
     "name": "stdout",
     "output_type": "stream",
     "text": [
      "17858\n"
     ]
    }
   ],
   "source": [
    "test_address=[]\n",
    "with open('fashion-data/test.txt','r') as f:\n",
    "    for i in f:\n",
    "        test_address.append(i[:-1])\n",
    "f.close()\n",
    "test_size=len(test_address)\n",
    "print (test_size)"
   ]
  },
  {
   "cell_type": "code",
   "execution_count": null,
   "metadata": {
    "collapsed": true
   },
   "outputs": [],
   "source": []
  },
  {
   "cell_type": "code",
   "execution_count": null,
   "metadata": {
    "collapsed": true
   },
   "outputs": [],
   "source": []
  },
  {
   "cell_type": "code",
   "execution_count": 48,
   "metadata": {
    "collapsed": false
   },
   "outputs": [
    {
     "name": "stdout",
     "output_type": "stream",
     "text": [
      "50 Done\n",
      "100 Done\n",
      "150 Done\n",
      "200 Done\n",
      "250 Done\n",
      "300 Done\n",
      "350 Done\n",
      "400 Done\n",
      "450 Done\n",
      "500 Done\n",
      "550 Done\n",
      "600 Done\n",
      "650 Done\n",
      "700 Done\n",
      "750 Done\n",
      "800 Done\n",
      "850 Done\n",
      "900 Done\n",
      "950 Done\n",
      "1000 Done\n",
      "1050 Done\n",
      "1100 Done\n",
      "1150 Done\n",
      "1200 Done\n",
      "1250 Done\n",
      "1300 Done\n",
      "1350 Done\n",
      "1400 Done\n",
      "1450 Done\n",
      "1500 Done\n",
      "1550 Done\n",
      "1600 Done\n",
      "1650 Done\n",
      "1700 Done\n",
      "1750 Done\n",
      "1800 Done\n",
      "1850 Done\n",
      "1900 Done\n",
      "1950 Done\n",
      "2000 Done\n",
      "2050 Done\n",
      "2100 Done\n",
      "2150 Done\n",
      "2200 Done\n",
      "2250 Done\n",
      "2300 Done\n",
      "2350 Done\n",
      "2400 Done\n",
      "2450 Done\n",
      "2500 Done\n",
      "2550 Done\n",
      "2600 Done\n",
      "2650 Done\n",
      "2700 Done\n",
      "2750 Done\n",
      "2800 Done\n",
      "2850 Done\n",
      "2900 Done\n",
      "2950 Done\n",
      "3000 Done\n",
      "3050 Done\n",
      "3100 Done\n",
      "3150 Done\n",
      "3200 Done\n",
      "3250 Done\n",
      "3300 Done\n",
      "3350 Done\n",
      "3400 Done\n",
      "3450 Done\n",
      "3500 Done\n",
      "3550 Done\n",
      "3600 Done\n",
      "3650 Done\n",
      "3700 Done\n",
      "3750 Done\n",
      "3800 Done\n",
      "3850 Done\n",
      "3900 Done\n",
      "3950 Done\n",
      "4000 Done\n",
      "4050 Done\n",
      "4100 Done\n",
      "4150 Done\n",
      "4200 Done\n",
      "4250 Done\n",
      "4300 Done\n",
      "4350 Done\n",
      "4400 Done\n",
      "4450 Done\n",
      "4500 Done\n",
      "4550 Done\n",
      "4600 Done\n",
      "4650 Done\n",
      "4700 Done\n",
      "4750 Done\n",
      "4800 Done\n",
      "4850 Done\n",
      "4900 Done\n",
      "4950 Done\n",
      "5000 Done\n",
      "5050 Done\n",
      "5100 Done\n",
      "5150 Done\n",
      "5200 Done\n",
      "5250 Done\n",
      "5300 Done\n",
      "5350 Done\n",
      "5400 Done\n",
      "5450 Done\n",
      "5500 Done\n",
      "5550 Done\n",
      "5600 Done\n",
      "5650 Done\n",
      "5700 Done\n",
      "5750 Done\n",
      "5800 Done\n",
      "5850 Done\n",
      "5900 Done\n",
      "5950 Done\n",
      "6000 Done\n",
      "6050 Done\n",
      "6100 Done\n",
      "6150 Done\n",
      "6200 Done\n",
      "6250 Done\n",
      "6300 Done\n",
      "6350 Done\n",
      "6400 Done\n",
      "6450 Done\n",
      "6500 Done\n",
      "6550 Done\n",
      "6600 Done\n",
      "6650 Done\n",
      "6700 Done\n",
      "6750 Done\n",
      "6800 Done\n",
      "6850 Done\n",
      "6900 Done\n",
      "6950 Done\n",
      "7000 Done\n",
      "7050 Done\n",
      "7100 Done\n",
      "7150 Done\n",
      "7200 Done\n",
      "7250 Done\n",
      "7300 Done\n",
      "7350 Done\n",
      "7400 Done\n",
      "7450 Done\n",
      "7500 Done\n",
      "7550 Done\n",
      "7600 Done\n",
      "7650 Done\n",
      "7700 Done\n",
      "7750 Done\n",
      "7800 Done\n",
      "7850 Done\n",
      "7900 Done\n",
      "7950 Done\n",
      "8000 Done\n",
      "8050 Done\n",
      "8100 Done\n",
      "8150 Done\n",
      "8200 Done\n",
      "8250 Done\n",
      "8300 Done\n",
      "8350 Done\n",
      "8400 Done\n",
      "8450 Done\n",
      "8500 Done\n",
      "8550 Done\n",
      "8600 Done\n",
      "8650 Done\n",
      "8700 Done\n",
      "8750 Done\n",
      "8800 Done\n",
      "8850 Done\n",
      "8900 Done\n",
      "8950 Done\n",
      "9000 Done\n",
      "9050 Done\n",
      "9100 Done\n",
      "9150 Done\n",
      "9200 Done\n",
      "9250 Done\n",
      "9300 Done\n",
      "9350 Done\n",
      "9400 Done\n",
      "9450 Done\n",
      "9500 Done\n",
      "9550 Done\n",
      "9600 Done\n",
      "9650 Done\n",
      "9700 Done\n",
      "9750 Done\n",
      "9800 Done\n",
      "9850 Done\n",
      "9900 Done\n",
      "9950 Done\n",
      "10000 Done\n",
      "10050 Done\n",
      "10100 Done\n",
      "10150 Done\n",
      "10200 Done\n",
      "10250 Done\n",
      "10300 Done\n",
      "10350 Done\n",
      "10400 Done\n",
      "10450 Done\n",
      "10500 Done\n",
      "10550 Done\n",
      "10600 Done\n",
      "10650 Done\n",
      "10700 Done\n",
      "10750 Done\n",
      "10800 Done\n",
      "10850 Done\n",
      "10900 Done\n",
      "10950 Done\n",
      "11000 Done\n",
      "11050 Done\n",
      "11100 Done\n",
      "11150 Done\n",
      "11200 Done\n",
      "11250 Done\n",
      "11300 Done\n",
      "11350 Done\n",
      "11400 Done\n",
      "11450 Done\n",
      "11500 Done\n",
      "11550 Done\n",
      "11600 Done\n",
      "11650 Done\n",
      "11700 Done\n",
      "11750 Done\n",
      "11800 Done\n",
      "11850 Done\n",
      "11900 Done\n",
      "11950 Done\n",
      "12000 Done\n",
      "12050 Done\n",
      "12100 Done\n",
      "12150 Done\n",
      "12200 Done\n",
      "12250 Done\n",
      "12300 Done\n",
      "12350 Done\n",
      "12400 Done\n",
      "12450 Done\n",
      "12500 Done\n",
      "12550 Done\n",
      "12600 Done\n",
      "12650 Done\n",
      "12700 Done\n",
      "12750 Done\n",
      "12800 Done\n",
      "12850 Done\n",
      "12900 Done\n",
      "12950 Done\n",
      "13000 Done\n",
      "13050 Done\n",
      "13100 Done\n",
      "13150 Done\n",
      "13200 Done\n",
      "13250 Done\n",
      "13300 Done\n",
      "13350 Done\n",
      "13400 Done\n",
      "13450 Done\n",
      "13500 Done\n",
      "13550 Done\n",
      "13600 Done\n",
      "13650 Done\n",
      "13700 Done\n",
      "13750 Done\n",
      "13800 Done\n",
      "13850 Done\n",
      "13900 Done\n",
      "13950 Done\n",
      "14000 Done\n",
      "14050 Done\n",
      "14100 Done\n",
      "14150 Done\n",
      "14200 Done\n",
      "14250 Done\n",
      "14300 Done\n",
      "14350 Done\n",
      "14400 Done\n",
      "14450 Done\n",
      "14500 Done\n",
      "14550 Done\n",
      "14600 Done\n",
      "14650 Done\n",
      "14700 Done\n",
      "14750 Done\n",
      "14800 Done\n",
      "14850 Done\n",
      "14900 Done\n",
      "14950 Done\n",
      "15000 Done\n",
      "15050 Done\n",
      "15100 Done\n",
      "15150 Done\n",
      "15200 Done\n",
      "15250 Done\n",
      "15300 Done\n",
      "15350 Done\n",
      "15400 Done\n",
      "15450 Done\n",
      "15500 Done\n",
      "15550 Done\n",
      "15600 Done\n",
      "15650 Done\n",
      "15700 Done\n",
      "15750 Done\n",
      "15800 Done\n",
      "15850 Done\n",
      "15900 Done\n",
      "15950 Done\n",
      "16000 Done\n",
      "16050 Done\n",
      "16100 Done\n",
      "16150 Done\n",
      "16200 Done\n",
      "16250 Done\n",
      "16300 Done\n",
      "16350 Done\n",
      "16400 Done\n",
      "16450 Done\n",
      "16500 Done\n",
      "16550 Done\n",
      "16600 Done\n",
      "16650 Done\n",
      "16700 Done\n",
      "16750 Done\n",
      "16800 Done\n",
      "16850 Done\n",
      "16900 Done\n",
      "16950 Done\n",
      "17000 Done\n",
      "17050 Done\n",
      "17100 Done\n",
      "17150 Done\n",
      "17200 Done\n",
      "17250 Done\n",
      "17300 Done\n",
      "17350 Done\n",
      "17400 Done\n",
      "17450 Done\n",
      "17500 Done\n",
      "17550 Done\n",
      "17600 Done\n",
      "17650 Done\n",
      "17700 Done\n",
      "17750 Done\n",
      "17800 Done\n",
      "17850 Done\n",
      "17858 Done\n"
     ]
    }
   ],
   "source": [
    "count=1\n",
    "for i in test_address:\n",
    "    src=\"fashion-data/images/\"+i+\".jpg\"\n",
    "    folder=i.split(\"/\")\n",
    "    dst=\"dataset/test_set/\"+str(folder[0])+\"/\"+str(count)+\".jpg\"\n",
    "    copy2(src,dst)\n",
    "    if (count%50==0 or count==test_size):\n",
    "        print (str(count)+\" Done\")\n",
    "    count+=1\n",
    "    "
   ]
  },
  {
   "cell_type": "code",
   "execution_count": 49,
   "metadata": {
    "collapsed": false
   },
   "outputs": [
    {
     "name": "stdout",
     "output_type": "stream",
     "text": [
      "17859\n"
     ]
    }
   ],
   "source": [
    "print (count)"
   ]
  },
  {
   "cell_type": "code",
   "execution_count": null,
   "metadata": {
    "collapsed": true
   },
   "outputs": [],
   "source": []
  },
  {
   "cell_type": "code",
   "execution_count": null,
   "metadata": {
    "collapsed": true
   },
   "outputs": [],
   "source": []
  },
  {
   "cell_type": "code",
   "execution_count": null,
   "metadata": {
    "collapsed": true
   },
   "outputs": [],
   "source": []
  },
  {
   "cell_type": "code",
   "execution_count": null,
   "metadata": {
    "collapsed": false
   },
   "outputs": [],
   "source": []
  },
  {
   "cell_type": "code",
   "execution_count": null,
   "metadata": {
    "collapsed": true
   },
   "outputs": [],
   "source": []
  },
  {
   "cell_type": "code",
   "execution_count": null,
   "metadata": {
    "collapsed": true
   },
   "outputs": [],
   "source": []
  },
  {
   "cell_type": "code",
   "execution_count": null,
   "metadata": {
    "collapsed": true
   },
   "outputs": [],
   "source": []
  },
  {
   "cell_type": "code",
   "execution_count": null,
   "metadata": {
    "collapsed": true
   },
   "outputs": [],
   "source": []
  },
  {
   "cell_type": "code",
   "execution_count": null,
   "metadata": {
    "collapsed": true
   },
   "outputs": [],
   "source": []
  },
  {
   "cell_type": "code",
   "execution_count": null,
   "metadata": {
    "collapsed": true
   },
   "outputs": [],
   "source": []
  },
  {
   "cell_type": "code",
   "execution_count": null,
   "metadata": {
    "collapsed": true
   },
   "outputs": [],
   "source": []
  },
  {
   "cell_type": "code",
   "execution_count": null,
   "metadata": {
    "collapsed": true
   },
   "outputs": [],
   "source": []
  },
  {
   "cell_type": "code",
   "execution_count": null,
   "metadata": {
    "collapsed": true
   },
   "outputs": [],
   "source": []
  },
  {
   "cell_type": "code",
   "execution_count": null,
   "metadata": {
    "collapsed": true
   },
   "outputs": [],
   "source": []
  },
  {
   "cell_type": "code",
   "execution_count": null,
   "metadata": {
    "collapsed": true
   },
   "outputs": [],
   "source": []
  },
  {
   "cell_type": "code",
   "execution_count": null,
   "metadata": {
    "collapsed": true
   },
   "outputs": [],
   "source": []
  },
  {
   "cell_type": "code",
   "execution_count": null,
   "metadata": {
    "collapsed": true
   },
   "outputs": [],
   "source": []
  },
  {
   "cell_type": "code",
   "execution_count": null,
   "metadata": {
    "collapsed": true
   },
   "outputs": [],
   "source": []
  },
  {
   "cell_type": "code",
   "execution_count": null,
   "metadata": {
    "collapsed": true
   },
   "outputs": [],
   "source": []
  }
 ],
 "metadata": {
  "anaconda-cloud": {},
  "kernelspec": {
   "display_name": "Python [conda root]",
   "language": "python",
   "name": "conda-root-py"
  },
  "language_info": {
   "codemirror_mode": {
    "name": "ipython",
    "version": 3
   },
   "file_extension": ".py",
   "mimetype": "text/x-python",
   "name": "python",
   "nbconvert_exporter": "python",
   "pygments_lexer": "ipython3",
   "version": "3.5.2"
  }
 },
 "nbformat": 4,
 "nbformat_minor": 1
}
